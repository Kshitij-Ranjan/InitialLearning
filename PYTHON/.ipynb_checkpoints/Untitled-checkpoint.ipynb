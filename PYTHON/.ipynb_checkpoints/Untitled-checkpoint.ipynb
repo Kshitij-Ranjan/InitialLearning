{
 "cells": [
  {
   "cell_type": "code",
   "execution_count": 4,
   "id": "6442404c-538c-4456-86f7-cc3f3c39e335",
   "metadata": {},
   "outputs": [
    {
     "name": "stdout",
     "output_type": "stream",
     "text": [
      "Input: 'am' → ['Amazon', 'AMD']\n",
      "Input: 'in' → ['Intel', 'Infosys', 'Instagram', 'Infinix']\n",
      "Input: 's' → ['Samsung', 'Salesforce', 'SAP', 'Spotify', 'Snapchat']\n",
      "Input: 'q' → ['Qualcomm', 'Quora']\n",
      "Input: 'xyz' → ['❌ No match found']\n"
     ]
    }
   ],
   "source": [
    "import tkinter as tk\n",
    "\n",
    "# List of major tech companies\n",
    "tech_companies = [\n",
    "    \"Apple\", \"Amazon\", \"Adobe\", \"Alphabet\", \"AMD\", \"ARM\",\n",
    "    \"Intel\", \"IBM\", \"Infosys\", \"Instagram\", \"Infinix\",\n",
    "    \"Microsoft\", \"Meta\", \"Micron\", \"Motorola\",\n",
    "    \"Nvidia\", \"Netflix\", \"Nokia\", \"Nothing\",\n",
    "    \"Qualcomm\", \"Quora\",\n",
    "    \"Samsung\", \"Salesforce\", \"SAP\", \"Spotify\", \"Snapchat\",\n",
    "    \"Tesla\", \"TSMC\", \"Twitter\", \"TikTok\", \"Tencent\"\n",
    "]\n",
    "\n",
    "# Filter function\n",
    "def get_matches(prefix):\n",
    "    prefix = prefix.lower()\n",
    "    return [company for company in tech_companies if company.lower().startswith(prefix)]\n",
    "\n",
    "# GUI Setup\n",
    "def on_key_release(event):\n",
    "    user_input = entry.get()\n",
    "    listbox.delete(0, tk.END)  # Clear old matches\n",
    "    if user_input:\n",
    "        matches = get_matches(user_input)\n",
    "        for match in matches:\n",
    "            listbox.insert(tk.END, match)\n",
    "        if not matches:\n",
    "            listbox.insert(tk.END, \"❌ No match found\")\n",
    "    else:\n",
    "        listbox.delete(0, tk.END)\n",
    "\n",
    "# Create the main window\n",
    "root = tk.Tk()\n",
    "root.title(\"Tech Company Autocomplete\")\n",
    "root.geometry(\"400x300\")\n",
    "\n",
    "# Input label + entry\n",
    "tk.Label(root, text=\"Type a company prefix:\").pack(pady=10)\n",
    "entry = tk.Entry(root, width=40)\n",
    "entry.pack(pady=5)\n",
    "entry.bind('<KeyRelease>', on_key_release)\n",
    "\n",
    "# Listbox for matches\n",
    "listbox = tk.Listbox(root, width=50, height=10)\n",
    "listbox.pack(pady=10)\n",
    "\n",
    "# Start GUI\n",
    "root.mainloop()\n"
   ]
  }
 ],
 "metadata": {
  "kernelspec": {
   "display_name": "Python 3 (ipykernel)",
   "language": "python",
   "name": "python3"
  },
  "language_info": {
   "codemirror_mode": {
    "name": "ipython",
    "version": 3
   },
   "file_extension": ".py",
   "mimetype": "text/x-python",
   "name": "python",
   "nbconvert_exporter": "python",
   "pygments_lexer": "ipython3",
   "version": "3.13.5"
  }
 },
 "nbformat": 4,
 "nbformat_minor": 5
}
